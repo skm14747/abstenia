{
 "metadata": {
  "language_info": {
   "codemirror_mode": {
    "name": "ipython",
    "version": 3
   },
   "file_extension": ".py",
   "mimetype": "text/x-python",
   "name": "python",
   "nbconvert_exporter": "python",
   "pygments_lexer": "ipython3",
   "version": "3.6.9-final"
  },
  "orig_nbformat": 2,
  "kernelspec": {
   "name": "python3",
   "display_name": "Python 3"
  }
 },
 "nbformat": 4,
 "nbformat_minor": 2,
 "cells": [
  {
   "cell_type": "code",
   "execution_count": null,
   "metadata": {},
   "outputs": [],
   "source": [
    "import pandas as pd\n",
    "import locale\n",
    "import itertools  \n",
    "locale.setlocale(locale.LC_ALL, '')"
   ]
  },
  {
   "cell_type": "code",
   "execution_count": null,
   "metadata": {},
   "outputs": [],
   "source": [
    "input_df0= pd.read_csv('./input/1.csv')\n",
    "input_df0.head(15)"
   ]
  },
  {
   "cell_type": "code",
   "execution_count": null,
   "metadata": {},
   "outputs": [],
   "source": [
    "id_df = pd.read_excel('random IDs - 10 Lac.xlsx', index_col=None, header=None)\n",
    "# id_df.head(5)"
   ]
  },
  {
   "cell_type": "code",
   "execution_count": null,
   "metadata": {},
   "outputs": [],
   "source": []
  },
  {
   "cell_type": "code",
   "execution_count": null,
   "metadata": {},
   "outputs": [],
   "source": [
    "def convert_amount(val):\n",
    "    try:\n",
    "        return locale.format(\"%d\", val, grouping=True)\n",
    "    except:\n",
    "        return \"\""
   ]
  },
  {
   "cell_type": "code",
   "execution_count": null,
   "metadata": {},
   "outputs": [],
   "source": [
    "def generate_id():\n",
    "    str1 = \"ABCDEFGHIJKLMNOPQRSTUVWZ\"\n",
    "    temp=\"\"\n",
    "    for i in str1:\n",
    "        yield(i)"
   ]
  },
  {
   "cell_type": "code",
   "execution_count": null,
   "metadata": {
    "tags": []
   },
   "outputs": [],
   "source": [
    "def create_file(l,r,key):\n",
    "    df2 = pd.DataFrame()\n",
    "    input_df = input_df0[l:r]\n",
    "    df2[\"id\"] = id_df[0]\n",
    "    df2[\"name\"] = input_df[\"CUSTOMER_NAME\"].apply(lambda x : x.split(\" \")[0])\n",
    "\n",
    "    df2[\"al_link\"] = input_df[\"AL_TAG\"].apply(lambda x : \"https://leads.hdfcbank.com/applications/webforms/apply/HDFC_DIWALI_LP/Index.aspx?sourcecode=SEM&pcode=QLS_EMAIL&promocode=QLS_EMAIL&utm_campaign=QLS&utm_medium=email&utm_source=QLS_EMAIL\" if x != \"AL ZIP Drive\" else \"https://leadinsta.hdfcbank.com/applications/webforms/apply/hdfc_newcarloan_10sec/CustVerification.aspx?prod=107&sourcecode=QLS_VIDEO_VIS\")\n",
    "\n",
    "    df2[\"al_showslide\"] = input_df[\"AL_TAG\"].apply(lambda x: x is not pd.np.nan)\n",
    "    df2[\"al_pre-approvedText\"] = input_df[\"AL_TAG\"].apply(lambda x : \"eligible\" if x != \"AL ZIP Drive\" else \"pre-approved\")\n",
    "    df2[\"al_loanAmount\"] = input_df[\"AL_AMT\"].apply(convert_amount)\n",
    "    df2[\"twl_showslide2\"] = input_df[\"TWL_AMT\"].fillna(\"\").apply(lambda x : False if x==\"\" else True)\n",
    "    df2[\"twl_loanAmount\"] = input_df[\"TWL_AMT\"].apply(convert_amount)\n",
    "    df2[\"twl_link\"] = \"https://leads.hdfcbank.com/applications/new_webforms/apply/mobile/Two-wheeler-Loan.aspx?pcode=QLS_VIDEO_VIS\"\n",
    "\n",
    "    df2[\"pl_loan_type\"] =  input_df[\"PL_TAG\"].apply(lambda x : \"Quick Disbursal\" if x==\"PL 10 Sec\" else \"Disbursal in 10 sec\")\n",
    "    df2[\"pl_preapproved\"] =  input_df[\"PL_TAG\"].apply(lambda x : \"pre-approved\" if x==\"PL 10 Sec\" else \"eligible\")\n",
    "    df2[\"pl_loanAmount\"] = input_df[\"PL_AMT\"].apply(convert_amount)\n",
    "    df2[\"pl_link\"] =  input_df[\"PL_TAG\"].apply(lambda x : \"https://leadinsta.hdfcbank.com/applications/webforms/apply/hdfc_pl_cata/CustVerification.aspx?prod=PL&sourcecode=QLS_VIDEO_VIS\" if x ==\"PL 10 Sec\" else \"https://leads.hdfcbank.com/startdoing/personal-loan-leadform.aspx?source_code=HNET&pcode=QLS_EMAIL&promocode=QLS_EMAIL&utm_campaign=QLS&utm_medium=email&utm_source=QLS_EMAIL\")\n",
    "    df2[\"hl_name\"] = \"hdfcbank\"\n",
    "    df2[\"hl_link\"] = \"https://leads.hdfcbank.com/applications/new_webforms/apply/mobile/Home-Loan-Indians.aspx?SourceCode=paid&pcode=QLS_EMAIL&promocode=QLS_EMAIL&utm_campaign=QLS&utm_medium=email&utm_source=QLS_EMAIL\"\n",
    "\n",
    "    df2[\"instaloan_show\"] = input_df[\"JUMBO_LOAN_AMT\"].apply(lambda x: x is not pd.np.nan)\n",
    "    df2[\"instaloan_cardno\"] = input_df[\"INSTA_LOAN_CARD_NO\"].fillna(\"\").apply(lambda x: \"\" if x==\"\" else \"xx\"+str(x).split(\".\")[0][-4:])\n",
    "    df2[\"consumerLoan_showslide\"]= input_df[\"DC_EMI_AMT\"].apply(lambda x: str(x) != \"nan\")\n",
    "\n",
    "    df2[\"consumerloan_amount\"] = input_df[\"DC_EMI_AMT\"].apply(convert_amount)\n",
    "    df2[\"consumerloan_cardno\"] = input_df[\"LAST_4_DIGITS_DC_EMI\"].fillna(\"\").apply(lambda x: \"\" if x==\"\" else \"xx\"+str(x).split(\".\")[0][-4:])\n",
    "    df2[\"consumerloan_link\"] = \"https://v1.hdfcbank.com/htdocs/common/festive-treats/loan_product/easyemi.html?pcode=QLS_EMAIL&promocode=QLS_EMAIL&utm_campaign=%20QLS&utm_medium=email&utm_source=QLS_EMAIL\"\n",
    "    df2[\"consumerloan_cardno\"] = input_df[\"CC_PRE_APPROVED_CARD\"].fillna(\"\").apply(lambda x: \"\" if x==\"\" else \"xx\"+str(x).split(\".\")[0][-4:])\n",
    "    df2[\"consumerloan_link\"] = \"https://v1.hdfcbank.com/htdocs/common/festive-treats/loan_product/easyemi.html?pcode=QLS_EMAIL&promocode=QLS_EMAIL&utm_campaign=%20QLS&utm_medium=email&utm_source=QLS_EMAIL\"\n",
    "    df2[\"cc_cardno\"] =  input_df[\"CC_PRE_APPROVED_CARD\"].fillna(\"\").apply(lambda x: \"\" if x==\"\" else \"xx\"+str(x).split(\".\")[0][-4:])\n",
    "\n",
    "    df2[\"cc_link\"] =  input_df[\"CC_PRE_APPROVED_CARD\"].apply(lambda x : \"https://leads.hdfcbank.com/applications/webforms/apply/HDFC_STP_MNP_VRMEmail_Res_Adapt/default.aspx?SourceCode= QLS_VIDEO_VIS &campname=NOBL&Promocode=QLS_VIDEO_VIS\" if x ==\"PL 10 Sec\" else \"https://leads.hdfcbank.com/applications/webforms/apply/HDFC_CC_Landingpage/Index.aspx?SourceCode=BUDG&pcode=QLS_EMAIL&promocode=QLS_EMAIL&utm_campaign=QLS&utm_medium=email&utm_source=QLS_EMAIL\")\n",
    "    df2[\"url\"] = \"https://mf1.pctr.co/\"+id_df[i]\n",
    "    df2.to_csv(key+\".csv\")"
   ]
  },
  {
   "cell_type": "code",
   "execution_count": null,
   "metadata": {
    "tags": []
   },
   "outputs": [],
   "source": [
    "# for testing I am splitting files with 5000 entries\n",
    "k=0\n",
    "while(k<len(input_df0)):\n",
    "    create_file(k, k+5000, next(generate_id()))\n",
    "    k = k+5001\n"
   ]
  },
  {
   "cell_type": "code",
   "execution_count": null,
   "metadata": {},
   "outputs": [],
   "source": []
  },
  {
   "cell_type": "code",
   "execution_count": null,
   "metadata": {},
   "outputs": [],
   "source": []
  },
  {
   "cell_type": "code",
   "execution_count": null,
   "metadata": {},
   "outputs": [],
   "source": []
  },
  {
   "cell_type": "code",
   "execution_count": null,
   "metadata": {},
   "outputs": [],
   "source": []
  }
 ]
}
